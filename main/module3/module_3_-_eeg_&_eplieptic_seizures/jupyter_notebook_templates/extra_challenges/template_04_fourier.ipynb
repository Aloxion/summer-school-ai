{
 "cells": [
  {
   "cell_type": "markdown",
   "id": "03b77e20",
   "metadata": {},
   "source": [
    "# Experimentation 4: Analysing the Frequency Content using the Fourier Transfrom\n",
    "In this notebook, we will explore the use of the Fourier transform to determine the frequency content of a signal.\n",
    "We will also reconstruct the signal from these frequencies to get a feeling for how the Fourier transform works.\n",
    "\n",
    "From there on, we will explore the spectrum of a time series over time, i.e., we will be able to investigate changes in the frequency composition of a signal.\n",
    "And we will see how we split a signal into a combination of different frequency ranges.\n",
    "\n",
    "## What to do?\n",
    "- Investigate the frequency content of \n",
    "  * A rectangular pulse\n",
    "  * A periodic sine/cosine\n",
    "  * A non-periodic sine/cosine\n",
    "  * An isolated sine pulse\n",
    "- Reconstruction of a signal\n",
    "- Partial reconstruction of a signal by omission of frequency content\n",
    "- Looking at the spectrum of known signals\n",
    "  * White noise\n",
    "  * A andom walk\n",
    "  * One EEG channel\n",
    "- Looking at how the frequency content changes during the duration of a signal\n",
    "- Extracting the frequency contents of frequency invals, so called (sub-) band spectra\n",
    "\n",
    "## Discussion\n",
    "- How does the shape of the signal pass on to the spectrum?\n",
    "- Shouldn't sine or cosine signals always just have one frequency?\n",
    "- What can you observe from the partial reconstruction of the signal?\n",
    "- How does the parital reconstruction relate to analysing the spectra of sub-bands?\n",
    "- Which advantage do you expect from taking the spectrum into account when analysing EEG?"
   ]
  },
  {
   "cell_type": "code",
   "execution_count": null,
   "id": "c5ad7a6f",
   "metadata": {},
   "outputs": [],
   "source": [
    "import numpy as np                            # Array library\n",
    "import scipy                                  # Algorithms working on arrays\n",
    "from scipy import fft                         # Fast fourier transform\n",
    "import pandas as pd                           # Advanced data frames & csv reading\n",
    "\n",
    "\n",
    "# Jupyter lab supports interactive plots      # Matplotlib for plotting\n",
    "# using \"widget\"\n",
    "%matplotlib widget\n",
    "\n",
    "# Jupyter lab doesn't support notebook,\n",
    "# which was the preferred method for jupyter notebooks.\n",
    "#%matplotlib notebook\n",
    "#%matplotlib inline\n",
    "\n",
    "\n",
    "from matplotlib import pyplot as plt\n",
    "import matplotlib.dates as mdates\n",
    "\n",
    "import seaborn as sns                         # Advanced plotting, support for data frames\n",
    "\n",
    "# Adjust plot size & resolution for inline display.\n",
    "# Tune to your needs.\n",
    "plt.rcParams['figure.figsize'] = [9, 5.56]\n",
    "plt.rcParams['figure.dpi'] = 100"
   ]
  },
  {
   "cell_type": "code",
   "execution_count": null,
   "id": "2d627313",
   "metadata": {},
   "outputs": [],
   "source": [
    "# Defining base paths for read-only and read-write data\n",
    "# will make it easy for us to switch between cloud\n",
    "# and local environments by just adjusting the paths.\n",
    "#\n",
    "# Also, it will prevent accidental overwriting of read-only data.\n",
    "\n",
    "from pathlib import Path         # OS agnostic path handling (/ vs \\)\n",
    "\n",
    "user = 'jb'                      # Per-user output directories\n",
    "\n",
    "# Base directories\n",
    "# DATA_DIR -- where the read-only sources are\n",
    "DATA_DIR = Path('/work/data')\n",
    "\n",
    "# OUTPUT_DIR -- where we will keep our data (read/write)\n",
    "# We will make sure it exists!\n",
    "OUTPUT_DIR = Path('/work/output')\n",
    "\n",
    "# Now create our own output directory and change to it\n",
    "OUTPUT_DIR /= user\n",
    "OUTPUT_DIR.mkdir(parents=True, exist_ok=True)\n",
    "\n",
    "import os\n",
    "os.chdir(OUTPUT_DIR)             # Change working directory"
   ]
  },
  {
   "cell_type": "markdown",
   "id": "0da7f1e4",
   "metadata": {},
   "source": [
    "# Fourier transform basics\n",
    "Fourier transforms of simple functions:\n",
    "* Rectanglar pulse\n",
    "* Periodic sine/cosine on signal\n",
    "* Non-periodic sine/cosine on signal\n",
    "* Sine pulse, i.e., sine with zero padding (0-Sine-0)\n",
    "\n",
    "Optional (later): Apply window functions to see the influence on the spectrum.\n",
    "\n",
    "For each of these, perform the following steps:\n",
    "* Create signal\n",
    "* Transform\n",
    "* Plot Signal and transform\n",
    "(Note: as the coefficients are complex valued, plot np.abs() of the coefficients.)\n",
    "* Reconstruct the signal\n",
    "* Perform a partial reconstruction,\n",
    "i.e., plot several reconstructions using only parts of the coefficients starting from\n",
    "the low frequency range. Zero the higher ones.\n",
    "Use subplots to show the partial reconstruction with their residuals."
   ]
  },
  {
   "cell_type": "markdown",
   "id": "2bf2d687",
   "metadata": {},
   "source": [
    "## Investigating the Spectrum of Different Signal Shapes"
   ]
  },
  {
   "cell_type": "code",
   "execution_count": null,
   "id": "f2670942",
   "metadata": {},
   "outputs": [],
   "source": [
    "# Number of points. Ideally a power of two (most efficient…)\n",
    "N = 3000\n",
    "s_rate = 1000\n",
    "\n",
    "func = np.zeros(N)\n",
    "\n",
    "# Fourier transform\n",
    "# Determine the coefficients\n",
    "trans = fft.rfft(func)\n",
    "# Determine the frequencies which are associated with these coefficients\n",
    "_freqs = fft.rfftfreq(len(func), 1/s_rate)\n",
    "\n",
    "plt.figure()\n",
    "plt.subplot(211)\n",
    "plt.plot(func)\n",
    "plt.subplot(212)\n",
    "plt.plot(_freqs, trans);"
   ]
  },
  {
   "cell_type": "markdown",
   "id": "8848613e",
   "metadata": {},
   "source": [
    "## Signal Reconstruction\n",
    "Reconstruct the original signal and determine the quared error to the original signal.\n",
    "Is there a difference in the error for the different signals?"
   ]
  },
  {
   "cell_type": "code",
   "execution_count": null,
   "id": "bea011d9",
   "metadata": {},
   "outputs": [],
   "source": [
    "fig, ax = plt.subplots()\n",
    "ax.set_title('Full Reconstructions')\n",
    "ax.plot(fft.irfft(trans))\n"
   ]
  },
  {
   "cell_type": "markdown",
   "id": "91566246",
   "metadata": {},
   "source": [
    "## Partial Reconstruction\n",
    "Perform multiple reconstructions with an increasing fraction of components\n",
    "How does the visual signal change?\n",
    "How does the reconstruction error change?\n",
    "How does the partial reconstruction relate to filters, e.g., low-pass filters?"
   ]
  },
  {
   "cell_type": "code",
   "execution_count": null,
   "id": "8fe83ea8",
   "metadata": {},
   "outputs": [],
   "source": [
    "\n",
    "fig = plt.figure()\n",
    "ax = fig.add_subplot(211)\n",
    "ax.set_title('Piece-Wise Reconstructions')\n",
    "\n",
    "ax2 = fig.add_subplot(212)\n",
    "ax2.set_title('Error of Piece-Wise Reconstructions')\n",
    "\n",
    "\n",
    "\n",
    "\n",
    "fig.legend(loc='upper center', ncol=5)"
   ]
  },
  {
   "cell_type": "markdown",
   "id": "d4bc123a",
   "metadata": {},
   "source": [
    "# Spectrum of a Signal\n",
    "Let's investigate the frequency content of simple signals, i.e., white noise, random walk, and one eeg channel.\n",
    "\n",
    "## Fourier Coefficients of a Time Series\n",
    "Plot for each the original signal together with the Fourier coefficients.\n",
    "Also, investigate the spectrogram for each of them (next box).\n",
    "\n",
    "What do you observe for these signals?"
   ]
  },
  {
   "cell_type": "code",
   "execution_count": null,
   "id": "602764b7",
   "metadata": {},
   "outputs": [],
   "source": []
  },
  {
   "cell_type": "markdown",
   "id": "314322b3",
   "metadata": {},
   "source": [
    "## Spectrogram\n",
    "How does the frequency content change over time?\n",
    "\n",
    "Use ```plt.specgram(func, Fs=sample_rate)``` to visualise how the spectrum changes over time."
   ]
  },
  {
   "cell_type": "code",
   "execution_count": null,
   "id": "ce46bf20",
   "metadata": {},
   "outputs": [],
   "source": []
  },
  {
   "cell_type": "markdown",
   "id": "0b2bc896",
   "metadata": {},
   "source": [
    "## Extracting Specific Frequencies \n",
    "\n",
    "For some applications. the content of a certain frequency interval can be of interest.\n",
    "To this end, you can use the [rfftfreq](https://docs.scipy.org/doc/scipy/reference/generated/scipy.fft.rfftfreq.html#scipy.fft.rfftfreq) to determine the spectrum in a frequency interval.\n",
    "\n",
    "\n",
    "In terms of EEG recordings, the brain wave bands are often used as features.\n",
    "\n",
    "Determine the frequency contents of the brain wave bands in one channel."
   ]
  },
  {
   "cell_type": "code",
   "execution_count": null,
   "id": "b98d71f5",
   "metadata": {},
   "outputs": [],
   "source": []
  }
 ],
 "metadata": {
  "kernelspec": {
   "display_name": "Python 3 (ipykernel)",
   "language": "python",
   "name": "python3"
  },
  "language_info": {
   "codemirror_mode": {
    "name": "ipython",
    "version": 3
   },
   "file_extension": ".py",
   "mimetype": "text/x-python",
   "name": "python",
   "nbconvert_exporter": "python",
   "pygments_lexer": "ipython3",
   "version": "3.12.11"
  }
 },
 "nbformat": 4,
 "nbformat_minor": 5
}
