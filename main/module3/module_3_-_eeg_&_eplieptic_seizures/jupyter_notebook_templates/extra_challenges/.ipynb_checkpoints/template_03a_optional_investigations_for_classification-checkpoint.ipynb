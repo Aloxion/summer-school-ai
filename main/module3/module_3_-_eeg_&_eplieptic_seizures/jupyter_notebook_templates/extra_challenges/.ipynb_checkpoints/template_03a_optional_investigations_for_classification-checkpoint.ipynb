{
 "cells": [
  {
   "cell_type": "markdown",
   "id": "f9d289aa",
   "metadata": {},
   "source": [
    "# Optional Experimentation 3a: Classification\n",
    "For those who got through with Task 3 too fast and still want to look a bit deeper into the problem, this notebook can be used to extend the original notebook.\n",
    "\n",
    "This template is not usable on its own. It is suggested that you copy the relevant blocks over into your notebook for Task 3 and continue there, or, you can insert the common preamble from Task 3 over into this notebook.\n",
    "\n",
    "Have fun!"
   ]
  },
  {
   "cell_type": "markdown",
   "id": "b568fe53",
   "metadata": {},
   "source": [
    "# Test Variance vs Seizure Overlap\n",
    "To get an impression of how seizures alter the variance of the EEG signal, we will make a simple visual inspection of the correlation between signal variance and seizure overlap.\n",
    "\n",
    "For one channel and all windows, plot the variance, the overlap, and compare this to seizure positions. \n",
    "\n",
    "Question: how could you perform this test in a methodological manner?"
   ]
  },
  {
   "cell_type": "code",
   "execution_count": null,
   "id": "00e62147",
   "metadata": {},
   "outputs": [],
   "source": [
    "# Collect the data in a set of lists,\n",
    "# for which you can _list_name.append(…) in the for loop.\n",
    "_times = list()\n",
    "_vars = list()\n",
    "_over = list()\n",
    "for start_time, win, overlap in time_windows(signals[7], signal_headers[7], 3, 1):\n",
    "    pass\n",
    "\n",
    "# Now plot the collected information and add the seizure markers."
   ]
  },
  {
   "cell_type": "markdown",
   "id": "2eaa6988",
   "metadata": {},
   "source": [
    "# Advanced Features\n",
    "The literature describes many different features.\n",
    "Not all of them give a real advantage and even worse,\n",
    "it may depend on the data set and the underlying system.\n",
    "\n",
    "Here, you can take a look additional features which are\n",
    "a bit more complicated to implement.\n",
    "\n",
    "Importantly, this part is intended to be used with an investigation\n",
    "of the importance of the different features for the outcome.\n",
    "Because, as some features are rather complex to implement, the question is if it is worth the hassle.\n",
    "\n",
    "Examples to check would be\n",
    "  * Shannon Entropym which needs an estimate for the probability of a certain value to be found in the data.\n",
    "    You can use sklearn.neighbors.KernelDensity to estimate this probability.\n",
    "  * Including frequency-domain features (next template).\n",
    "  * Cross-correlation between the channels, e.g., [Tsiouris, 2018].\n",
    "    As we discussed seizures as a consequence of larger scale synchronisation,\n",
    "    it can be assumed that the correlations will change.\n",
    "  * In case you really have too much time, feel free to check [Boonyakitanont, 2020], [Acharya, 2013], or [Tsiouris, 2018].\n",
    "\n",
    "## Good to Know\n",
    "* Use ```from sklearn.neighbors import KernelDensity``` for being able to estimate probabilits density functions (pdf)."
   ]
  },
  {
   "cell_type": "code",
   "execution_count": null,
   "id": "e51cf806",
   "metadata": {},
   "outputs": [],
   "source": []
  },
  {
   "cell_type": "markdown",
   "id": "69a8fb5c",
   "metadata": {},
   "source": [
    "# Advanced Data Preparation\n",
    "To make the data set less diverse, you can remove artifacts, which increase the complexity of the non-ictal intervals.\n",
    "\n",
    "What is the effect on classification performance?"
   ]
  },
  {
   "cell_type": "code",
   "execution_count": null,
   "id": "b495540c",
   "metadata": {},
   "outputs": [],
   "source": []
  },
  {
   "cell_type": "markdown",
   "id": "aa18421b",
   "metadata": {},
   "source": [
    "# Testing Other Models\n",
    "When designing the course, we decided to limit the number of methods we are going to present due to the limited time we have.\n",
    "\n",
    "If you know or just want to try more classifiers, you can draw on the abundant collection sklearn provides.\n",
    "They all have different characteristics, like their decision boundaries, and their own advantages and disadvantages and it definitely is worth investing the time to learn about them and experience all the pitfalls first hand.\n",
    "\n",
    "One option for you to try is the [SVM](https://scikit-learn.org/stable/modules/svm.html), which was introduced during module 3.\n",
    "You might notice that it reacts significantly towards data preparation procedures.\n",
    "\n",
    "Note, for example, random forests can cope with some inbalance.\n",
    "The multi-layer perceptrons really don't…"
   ]
  },
  {
   "cell_type": "code",
   "execution_count": null,
   "id": "1dc29d81",
   "metadata": {},
   "outputs": [],
   "source": []
  }
 ],
 "metadata": {
  "kernelspec": {
   "display_name": "Python 3 (ipykernel)",
   "language": "python",
   "name": "python3"
  },
  "language_info": {
   "codemirror_mode": {
    "name": "ipython",
    "version": 3
   },
   "file_extension": ".py",
   "mimetype": "text/x-python",
   "name": "python",
   "nbconvert_exporter": "python",
   "pygments_lexer": "ipython3",
   "version": "3.10.14"
  }
 },
 "nbformat": 4,
 "nbformat_minor": 5
}
