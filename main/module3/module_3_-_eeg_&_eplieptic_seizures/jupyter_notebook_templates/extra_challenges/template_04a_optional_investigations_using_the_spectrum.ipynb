{
 "cells": [
  {
   "cell_type": "markdown",
   "id": "f9d289aa",
   "metadata": {},
   "source": [
    "# Optional Experimentation 4a: Frequency-Domain Features\n",
    "For those who got through with Task 4 too fast and don't know what to do with their spare time, this notebook can be used to extend the original notebook 3.\n",
    "\n",
    "Having mastered the four decomposition of the EEG signal in template 04, you can now add features which use this information.\n",
    "See, e.g., \n",
    "- Section 2.2 Frequency-domain features in \\[Boonyakitanont, 2020\\].\n",
    "- Section 2.1.2 Frequency domain methods in \\[Acharya, 2013\\].\n",
    "\n",
    "The big questions now are\n",
    "- What do we gain from introducing the additional step of the fourier transformation into our analysis?\n",
    "- How much complexity does it add?"
   ]
  },
  {
   "cell_type": "markdown",
   "id": "a64069cd",
   "metadata": {},
   "source": [
    "## Statistical Measures of the Frequency Content\n",
    "Similar to determining mean or variance in the time-domain of the signal, you can also determine what the mean frequency is, or the most important, etc., as we expect the frequency distribution to change when large-scale synchronised activity sets in."
   ]
  },
  {
   "cell_type": "code",
   "execution_count": null,
   "id": "9039ce88",
   "metadata": {},
   "outputs": [],
   "source": []
  },
  {
   "cell_type": "markdown",
   "id": "b568fe53",
   "metadata": {},
   "source": [
    "## Frequency Bands\n",
    "To achieve a better resolution than just determining the mean or median frequency, you can determine, e.g., the relative frequency content in or the power distribution over the different frequency bands."
   ]
  },
  {
   "cell_type": "code",
   "execution_count": null,
   "id": "00e62147",
   "metadata": {},
   "outputs": [],
   "source": []
  }
 ],
 "metadata": {
  "kernelspec": {
   "display_name": "Python 3 (ipykernel)",
   "language": "python",
   "name": "python3"
  },
  "language_info": {
   "codemirror_mode": {
    "name": "ipython",
    "version": 3
   },
   "file_extension": ".py",
   "mimetype": "text/x-python",
   "name": "python",
   "nbconvert_exporter": "python",
   "pygments_lexer": "ipython3",
   "version": "3.9.13"
  }
 },
 "nbformat": 4,
 "nbformat_minor": 5
}
