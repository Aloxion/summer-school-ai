{
 "cells": [
  {
   "cell_type": "markdown",
   "id": "09e30ee0-a9db-42ba-9f30-193226fbbcc9",
   "metadata": {},
   "source": [
    "# Introduction to Python\n",
    "Dear Participant,\n",
    "\n",
    "the last years showed that the programming skills differ much from participant to participant.\n",
    "Therefore, we prepared materials for you to help you test your skills and help you get them up to speed.\n",
    "And as the course has a strong focus on practise, you will need these skills to be able to follow the curriculum.\n",
    "Thus, please work through the provided materials in good time,\n",
    "as you might be unable to do so in the last minute.\n",
    "\n",
    "Note, this is not a full python tutorial.\n",
    "If you already know what to do in each cell, you will likely be fine and you can use the time to polish your R skills.\n",
    "Nonethelss, if you are not regularily coding in python,\n",
    "it might be a good idea to follow an in-depth toturial before course start.\n",
    "\n",
    "If you have no experience with jupyter notebooks, please note\n",
    "that this notebook was designed to be used in jupyter lab.\n",
    "Please check the accompanying documetation to find out more.\n",
    "\n",
    "The main advantage of these notebooks is the ability to combine markdown documents with python codes.\n",
    "Please follow the descriptions in the markdown cells (like this one) to complete the code in the following code cells.\n",
    "\n",
    "TODO: string formatting, interactive \"Console\", qtconsole, jupyter lab\n",
    "Essential data types: tuple, list, dict\n",
    "Animations and interaction\n",
    "Remark on functional vs OOP\n",
    "\n",
    "Use python range for for loops!\n",
    "\n",
    "Please create specific tutorials for specific parts of your lecture,\n",
    "and let us keep this part generic with a small extension to make sure\n",
    "that data access can be handled.\n",
    "\n",
    "@Vinay: note that I am currently using matplotlib.image to load image files.\n",
    "If you plan on using a different facility, please adjust the image loading part\n",
    "at the bottom of the notebook.\n",
    "\n",
    "# How to Use this Tutorial\n",
    "Essentially, try out all examples given in the text in the code boxes below.\n",
    "Also, add your own experimentation to get a better understanding of what happens.\n",
    "\n",
    "If you are new to programming, some concepts will not be intuitive.\n",
    "\n",
    "If you already know other programming languages, you will be able to skim through\n",
    "the first part quickly, but you will get an insight into how to do things in a pythonic way,\n",
    "when following the full tutorial.\n",
    "This is important, as using for-loop constructs as in other languages can be horribly\n",
    "slow at times, whereas expressions working on large arrays or other sequences\n",
    "can achieve almost the same speed as C constructs, when used correctly.\n",
    "\n",
    "Also note that the tutorial points out some concepts that you will not immediately need,\n",
    "but whose knowledge will help you understand specific behaviour later on.\n",
    "In case you hit a concept you do not see its use yet, feel free to ask questions\n",
    "on the Summer School communications channel or revisit them later on.\n",
    "\n",
    "# How to Use the Notebook\n",
    "In case you do not work through the notebook at once,\n",
    "you will need to rerun earlier cells to get access to the extra functionality\n",
    "by the *modules* imported in these.\n",
    "Use the fast-forward button at the top to execute all cells at once.\n",
    "Then pick up where you left."
   ]
  },
  {
   "cell_type": "markdown",
   "id": "483aa902-81d7-4570-9917-d23ae3feb43f",
   "metadata": {},
   "source": [
    "# Basic Functionality\n",
    "You can immediately try all program language features in code cells.\n",
    "When executed, the output produced by the cell's code will be printed below the cell.\n",
    "Note that for the last line in a cell, the value produced by it will be printed if the line is not closed by a semicolon.\n",
    "\n",
    "Try this out by typing in a number, or a \"string\", i.e., a sequence of characters enclosed by single or double quotation marks.\n",
    "\n",
    "Add a semicolon at the end, to suppress the output.\n",
    "\n",
    "Use the print function, e.g., ```print('Hello World')```,\n",
    "to explicitly produce output."
   ]
  },
  {
   "cell_type": "code",
   "execution_count": null,
   "id": "3865d9b3-52ee-4ede-a149-e7ea6a341d70",
   "metadata": {
    "tags": []
   },
   "outputs": [],
   "source": []
  },
  {
   "cell_type": "markdown",
   "id": "bbfcc78e-6b6f-40ad-97bd-e8fd32488d4b",
   "metadata": {},
   "source": [
    "## Variable Assignments\n",
    "You assign values to variables in the following way\n",
    "```\n",
    "     x = 5\n",
    "```\n",
    "It is not necessary to declare the variables or their types\n",
    "as in other languages, like C, C++, or Java.\n",
    "By assigning the value, the variable's type will be defined,\n",
    "i.e., x will be of interger type (int).\n",
    "When using\n",
    "```\n",
    "    y = 4.2\n",
    "```\n",
    "y will be of type float, standing for floating point value,\n",
    "a type used to store the computer's approximation of real values.\n",
    "Using\n",
    "```\n",
    "    z = x + y\n",
    "```\n",
    "z gets assigned the sum of x and y.\n",
    "z automatically becomes a float, to be able to hold the result.\n",
    "The sum of two ints would be another int.\n",
    "\n",
    "Similar rules hold for subtraktion, multiplication, division, and exponentiation:\n",
    "```- * / **```\n",
    "In contrast to summation, the devision of two ints would be a real value.\n",
    "To force an integer result, use the integer division ```//```.\n",
    "\n",
    "Use ```print(z)``` to output the value of z.\n",
    "\n",
    "Determine the type of z with ```type(z)```.\n",
    "\n",
    "Try at least the division, i.e.,\n",
    "```5/7, 5.0/7.0, 5/7.0, 5.0/7```\n",
    "as well as ```7//2``` and ```7.2//2.2```!\n",
    "\n",
    "Inspect the results with ```print()``` and ```type()```."
   ]
  },
  {
   "cell_type": "code",
   "execution_count": null,
   "id": "07ace6e0-8c9b-49a0-bf23-7c8073ed47b8",
   "metadata": {
    "tags": []
   },
   "outputs": [],
   "source": []
  },
  {
   "cell_type": "markdown",
   "id": "4761cdc1-0ec2-4669-849b-15c0c1fce314",
   "metadata": {},
   "source": [
    "## For-Loop\n",
    "Different types of loops exist to repeat instructions in your code.\n",
    "```\n",
    "for i in [1, 3, 7]:\n",
    "    j = i**2\n",
    "    print('The square of', i, 'is', j)\n",
    "```\n",
    "The instructions to be repeated are (in Python) indented with 4 spaces. The preceeding line, containing the loop instruction, ends in a colon, introducing the following block.\n",
    "The block is ended when you no longer indent your instructions.\n",
    "\n",
    "Note (1): this is a difference to other languages, e.g., C, where code blocks are enclosed by curly brackets.\n",
    "\n",
    "Note (2): in contrast to, e.g., C, were the loop contains a procedure for how the loop variable (here i) should be modified, Python expects an object which can be iterated such as lists, arrays, or generators.\n",
    "\n",
    "Note (3): a different type of loop is the while loop, which is using a logical condition to decide how often a block should be repeated. We introduce it later.\n",
    "\n",
    "Try out the loop example from above."
   ]
  },
  {
   "cell_type": "code",
   "execution_count": null,
   "id": "65609a89-bf57-4b40-b4ef-7f30e6515374",
   "metadata": {
    "tags": []
   },
   "outputs": [],
   "source": []
  },
  {
   "cell_type": "markdown",
   "id": "616dd4af-e447-4c34-8305-2d8b8af5fd2d",
   "metadata": {},
   "source": [
    "## Relational Operators\n",
    "You can try relations directly in a code cell.\n",
    "For ```x = 5``` and ```y = 4.2```, the relations result in\n",
    "\n",
    "```x > y```: ```True```\n",
    "\n",
    "```x == y```: ```False```\n",
    "\n",
    "Note the difference between the comparing ```==``` and the assigning ```=```.\n",
    "Further examples for relational operators are ```<```, ```<=```, ```>=```, and ```!=``` (not equal)."
   ]
  },
  {
   "cell_type": "code",
   "execution_count": null,
   "id": "6866357a-e564-447d-a795-ba5569555915",
   "metadata": {},
   "outputs": [],
   "source": []
  },
  {
   "cell_type": "markdown",
   "id": "0ff5fdb3-c4f5-45e7-a979-d18c8d5b761f",
   "metadata": {},
   "source": [
    "## Conditional Execution (if)\n",
    "Relational operators can be used to formulate conditions.\n",
    "Condintial execution uses such a condition, to determine if a block of code will be executed.\n",
    "\n",
    "General form:\n",
    "```\n",
    "if i < 5:              # Condition\n",
    "    print(i)           # Block of instructions gets\n",
    "    print(i**i)        # executed if condition is met.\n",
    "```\n",
    "\n",
    "As with the for-loop, a block of instructions is determined by its indentation.\n",
    "To add an ```else``` instruction to define\n",
    "an alternative code block, remove the indentation:\n",
    "```\n",
    "if i < 5:              # Condition\n",
    "    print(i)           # Block of instructions gets\n",
    "    print(i**i)        # executed if condition is met.\n",
    "else:\n",
    "    print('i is >= 5') # Alternative execution path\n",
    "                       # in case the condition is\n",
    "                       # not met\n",
    "```\n",
    "Use ```elif``` to differentiate further cases:\n",
    "```\n",
    "if i < 5:              # Condition\n",
    "    print(i)           # Block of instructions gets\n",
    "    print(i**i)        # executed if condition is met.\n",
    "elif i < 10:\n",
    "    print(' 5 <= i < 10')\n",
    "elif i < 20:\n",
    "    print(' 10 <= i < 20')\n",
    "else:\n",
    "    print(' i >= 20')\n",
    "```\n",
    "Try out these examples an d change the value of i,\n",
    "or use a for-loop to let i assume different values."
   ]
  },
  {
   "cell_type": "code",
   "execution_count": null,
   "id": "d9a7844f-3d89-4e65-a060-b7334e49857f",
   "metadata": {
    "tags": []
   },
   "outputs": [],
   "source": []
  },
  {
   "cell_type": "markdown",
   "id": "f450e190-b3a0-440b-8256-c9762c717776",
   "metadata": {
    "tags": []
   },
   "source": [
    "## The (conditioned) while-loop\n",
    "A while loop conditions the repetition of instructions in a code block on a logical condition given in the loop introduction:\n",
    "```\n",
    "k, l = 1, 1           # Initial values for k and l\n",
    "while k < 100:        # Conditioning the repeated code block\n",
    "    k, l = k+l, k\n",
    "    print(k, l, k/l)\n",
    "print('This instruction is not a part of the loop!')\n",
    "```\n",
    "Which numbers is calculated here? Which fraction results?"
   ]
  },
  {
   "cell_type": "code",
   "execution_count": null,
   "id": "ce517f7c-681f-489d-9a9e-7b4fdf8f6b48",
   "metadata": {
    "tags": []
   },
   "outputs": [],
   "source": []
  },
  {
   "cell_type": "markdown",
   "id": "8f57a102-9e19-4384-89bc-6aa97aa752ba",
   "metadata": {},
   "source": [
    "## Programs\n",
    "Using an interactive interpreter, like jupyter labs *Console*,  ```jupyter qtconsole``` or your favourite IDE's python interface, you can execute single instructions.\n",
    "With jupyter lab, you can also organise instructions in blocks, which can be executed together.\n",
    "A more traditional way to have instructions being executed would be to create a program,\n",
    "i.e., using an editor like spyder, notepad++, or visual study code, you write your instructions\n",
    "into a file, which you then save to disk and which can be executed in one piece.\n",
    "\n",
    "Using an interactive shell, you can execute it with\n",
    "```\n",
    "run filename.py\n",
    "```\n",
    "which will also make all variables and functions available. This is handy for debugging.\n",
    "\n",
    "From a terminal, you can execute it with\n",
    "```\n",
    "python filename.py\n",
    "```\n",
    "\n",
    "Note, that will stick to notebooks for two reasons.\n",
    " \n",
    " 1. The possibility to combine code with documentation makes it very intuitive for lectures.\n",
    "    Also, you can add your own documentation and notes easily.\n",
    " \n",
    " 2. The ability to execute parts of the program allows you to change small parts without having\n",
    "    to re-execute the whole program. This is a nice feature when loading data or pre-processing\n",
    "    is very time consuming. Especially when you are still experimenting with a language and its\n",
    "    tools, this feature provides a huge speed up."
   ]
  },
  {
   "cell_type": "markdown",
   "id": "07292690-412c-43ec-9c6c-8d5e88ff7bdb",
   "metadata": {},
   "source": [
    "## Subroutines aka functions\n",
    "When happily coding in notebooks, you might experience that your code gets longer and longer.\n",
    "Sometimes, you might have several copies of the same or very similar code.\n",
    "Both developments are issues, as finding a functionality becomes more difficult\n",
    "and especially, duplicated code that needs fixing is will need fixing in all places\n",
    "and is thus prone to having still buggy copies lying around which you forgot.\n",
    "\n",
    "A possibility to provide more structure and to allow reuse of code is to create functions.\n",
    "They allow you to provide structure by summarising a block of instructions with a descriptive name,\n",
    "additional documentation, and also one place to fix issues.\n",
    "\n",
    "```\n",
    "def sum_prod(x, y):\n",
    "   \"\"\" Calculate the sum and the product of x and y at once. \"\"\"\n",
    "   return x + y, x * y\n",
    "```\n",
    "As functions are blocks of code, their contents have to be indented accordingly.\n",
    "Try\n",
    "```\n",
    "print(sum_prod(4, 6))\n",
    "a, b = sum_prod(4, 6)\n",
    "print(a)\n",
    "print(b)\n",
    "```"
   ]
  },
  {
   "cell_type": "code",
   "execution_count": null,
   "id": "4b4acaa3-2fde-44e8-b830-ebd15f260d75",
   "metadata": {
    "tags": []
   },
   "outputs": [],
   "source": []
  },
  {
   "cell_type": "markdown",
   "id": "7058207f-8b23-484c-a39b-66ade73227bd",
   "metadata": {},
   "source": [
    "## Note on Advanced Code Structuring\n",
    "When using python a lot, you will at some point have a set of functions that you want to use in several places, not just in one notebook. This can be achieved by creating your own modules, providing functions which can then be imported (see below).\n",
    "\n",
    "Alas, this is far outside the scope of this course and just mentioned for the sake of completeness. You are encouraged to read up on this feature when you need it. :-)"
   ]
  },
  {
   "cell_type": "markdown",
   "id": "b650a2b0-f1e4-4681-9113-654ade64d53b",
   "metadata": {},
   "source": [
    "## Documentation\n",
    "An important aspect of coding is thorough, expressive documentation.\n",
    "Python supports this with docstrings, which also allow to easily access help to functions, modules, and essentially every part of your code, using the ```?``` operator and the ```help()``` function.\n",
    "\n",
    "Try getting help on previously used objects, e.g., ```a?``` and ```help(a)```, for sum_prod and print.\n",
    "Do *?* and *help* provide the same information?"
   ]
  },
  {
   "cell_type": "code",
   "execution_count": null,
   "id": "0b14268c-618b-4661-96fe-202a523b008a",
   "metadata": {
    "tags": []
   },
   "outputs": [],
   "source": []
  },
  {
   "cell_type": "markdown",
   "id": "4317b96a-decb-451f-90b1-7a4aba0c2d44",
   "metadata": {},
   "source": [
    "It is suggested that you read up on python's documentation and type system in detail.\n",
    "For reference, an example for a documented program could look like this:\n",
    "\n",
    "```\n",
    "\"\"\" Program short description Programms (\"title\")\n",
    "\n",
    "    At this point, you should describe the program, methods used,\n",
    "    open questions, etc…\n",
    "\"\"\"\n",
    "\n",
    "from numpy import sqrt\n",
    "\n",
    "def newton_iteration(number : int, num_iter : int = 5):\n",
    "    \"\"\" Calculate the square root of number using Newton iteration.\n",
    "    \n",
    "        The Newton iteration\n",
    "\n",
    "            x_k = 1/2 ( x_{k-1} + number/x_{k-1})\n",
    "\n",
    "        (with x_0 = 1) converges quadratically towards the sought\n",
    "        square root.\n",
    "\n",
    "        The parameter num_iter (with default value 5) determines\n",
    "        the number of performed iterations.\n",
    "    \"\"\"\n",
    "    x = 1.0                      # Initial values for the Newton iteration\n",
    "    iter = 0\n",
    "\n",
    "    while iter < num_iter:       # Perform num_iter iterations\n",
    "        x = 0.5 * (x + number/x) # Single Newton iteration step\n",
    "        iter = iter + 1\n",
    "    return x\n",
    "\n",
    "\n",
    "# Main program\n",
    "print('Newton iteration')\n",
    "print(f'sqrt(2)     : {sqrt(2.0) : 16.14f}')\n",
    "print(f'5 iterations: {newton_iteration(2.0): 16.14f}')\n",
    "print(f'3 iterations: {newton_iteration(2.0, 3): 16.14f}')\n",
    "print(f'2 iterations: {newton_iteration(2.0, 2): 16.14f}')\n",
    "```\n",
    "\n",
    "This program's output will be\n",
    "```\n",
    "Newton iteration\n",
    "sqrt(2)     :  1.41421356237310\n",
    "5 iterations:  1.41421356237309\n",
    "3 iterations:  1.41421568627451\n",
    "2 iterations:  1.41666666666667\n",
    "```\n",
    "\n",
    "Try out the presented code and check the documentation for numpy, sqrt, and newton_iteration.\n",
    "What works, what not?\n",
    "Try ```import numpy```, before requesting its help."
   ]
  },
  {
   "cell_type": "code",
   "execution_count": null,
   "id": "d8988ee8-cea0-4875-a2ff-df6699c3d7b1",
   "metadata": {
    "tags": []
   },
   "outputs": [],
   "source": []
  },
  {
   "cell_type": "markdown",
   "id": "8ae41e82-e09c-4a14-a774-10cc59452927",
   "metadata": {
    "tags": []
   },
   "source": [
    "## Line continuation\n",
    "It is desirable to prevent lines from becoming too long,\n",
    "and instead to keep control over line breaks and continue\n",
    "an instruction over several lines.\n",
    "The backslash character ```\\``` for example can be used\n",
    "to continue an instruction on the next line\n",
    "\n",
    "```\n",
    "a = 400 * (50  * a_rather_long_variable + another_long_variable) + \\\n",
    "    and_we_continue_in_the_next_line\n",
    "```\n",
    "Another option is to use parentheses\n",
    "\n",
    "```\n",
    "a = 400 * (50  * a_rather_long_variable + another_long_variable +\n",
    "           and_we_continue_in_the_next_line)\n",
    "```\n",
    "Try to use indentation to make it easy to follow the structure\n",
    "of your instructions."
   ]
  },
  {
   "cell_type": "markdown",
   "id": "e32566b7-b777-4e17-b5ba-87ce1df72e38",
   "metadata": {},
   "source": [
    "## Importing Modules with Additional Functionality\n",
    "Python can be extended, and a nice features is that it *comes with batteries included*,\n",
    "i.e., it provides you from the moment of installation with an abundance of features\n",
    "at your fingertips.\n",
    "\n",
    "At the core of this extensibility lies the module mechanism, of which we already saw\n",
    "an example above: the import of a function to calculate square roots from the numpy module,\n",
    "with ```from numpy import sqrt```.\n",
    "\n",
    "Each module comes with a set of functions which allow you to perform specific tasks.\n",
    "\n",
    "In the next section, we will look in more detail into how numpy can make our life easier,\n",
    "when we are handling arrays of data, i.e., collections of values of identical type."
   ]
  },
  {
   "cell_type": "markdown",
   "id": "af1c58b7-e84f-47c8-a480-43510db88c7e",
   "metadata": {
    "tags": []
   },
   "source": [
    "# Arrays and Efficient Array Operations with the numpy Module\n",
    "Arrays allow to use one variable for multiple values of the same type.\n",
    "Most importantly, it is easy and efficient to apply the same operations to all of these values.\n",
    "One dimensional arrays can stand for different values in a time series, standing for different time points.\n",
    "Two dimensional arrays could stand for simple black/white images,\n",
    "and three dimensional arrays could code for images with multiple colour channels.\n",
    "\n",
    "Using\n",
    "```\n",
    "from numpy import *\n",
    "```\n",
    "will make all functions and variables which are contained in the numpy module known to your program. \n",
    "This includes, for example, arrays and mathematical functions like sqrt for arrays.\n",
    "\n",
    "Note: a special property of numpy's functions is that they are optimised for arrays,\n",
    "i.e., for being applied to large numbers of values of same type.\n",
    "Using\n",
    "```numpy.sqrt(array_name)```\n",
    "will be much faster then\n",
    "```for i in range(len(array_name)): array_name[i] = math.sqrt(array_name[i])```.\n",
    "\n",
    "Now load the numpy module with\n",
    "```\n",
    "import numpy as np\n",
    "```\n",
    "for the following exercises on one dimensional arrays.\n",
    "(We will look into higher dimensional arrays later.)\n",
    "Note, that this time we are importing the whole module under a specific name.\n",
    "We do this, to not have too many functions flying around.\n",
    "When using many modules in a program, this might lead to conflicting functions of the same name.\n",
    "\n",
    "Try the following instructions:\n",
    "```\n",
    "x = np.arange(10)\n",
    "print(f'x:  {x}, type: {x.dtype}')\n",
    "\n",
    "x2 = np.linspace(0, 9, num=10)\n",
    "print(f'x2: {x2}, type: {x2.dtype}')\n",
    "\n",
    "y = np.zeros(10)\n",
    "print(f'y:  {y}')\n",
    "\n",
    "z = 2 * np.ones(10, dtype=int)         # Request integer values\n",
    "print(f'z:  {z}')\n",
    "\n",
    "z2 = 2.0 * np.ones(10, dtype=int)\n",
    "print(f'z2: {z2}')\n",
    "```\n",
    "What is the difference between ```x``` and ```x2```?\n",
    "What between ```z``` and ```z2```?\n",
    "What happens when you set ```z[3] = 7.3```?\n",
    "Did you expect that?"
   ]
  },
  {
   "cell_type": "code",
   "execution_count": null,
   "id": "20576dbe-83bd-4cae-bf9e-b1061aa5a8de",
   "metadata": {
    "tags": []
   },
   "outputs": [],
   "source": []
  },
  {
   "cell_type": "markdown",
   "id": "c6d980b5-29b9-4d30-830c-aeda512a29f7",
   "metadata": {},
   "source": [
    "## Element-Wise Operations\n",
    "Besides the multiplication with scalar values, it is also possible to add and substract from arrays:\n",
    "```\n",
    "x = np.arange(10)\n",
    "print(4 * x)\n",
    "print(4.0 * x)\n",
    "print(x + 1)\n",
    "print(x / 10.0)\n",
    "print(x - np.pi)\n",
    "print(1.0 * (x < 3.5))\n",
    "print(1.0 * ((3 < x) * (x <= 7)))\n",
    "```"
   ]
  },
  {
   "cell_type": "code",
   "execution_count": null,
   "id": "1a0a403e-42b3-424b-acf5-4be0cc3d8c8c",
   "metadata": {
    "tags": []
   },
   "outputs": [],
   "source": []
  },
  {
   "cell_type": "markdown",
   "id": "34942004-3e92-4977-bee5-cd58cad6d24e",
   "metadata": {},
   "source": [
    "You can add add up, substract, multiply, divide, and potentiate arrays element by element:\n",
    "```\n",
    "w = np.arange(1, 20, 2)\n",
    "x = np.ones(10)\n",
    "print(x + w)\n",
    "print(x - w)\n",
    "print(x * w)\n",
    "print(x / w)\n",
    "print(x**2)\n",
    "print(x**w)\n",
    "```"
   ]
  },
  {
   "cell_type": "code",
   "execution_count": null,
   "id": "d42daef9-ef42-4ccb-9e72-16fd53990054",
   "metadata": {
    "tags": []
   },
   "outputs": [],
   "source": []
  },
  {
   "cell_type": "markdown",
   "id": "2afed067-8642-46bb-af49-8b3587f40d8e",
   "metadata": {},
   "source": [
    "Note: while *numpy.zeros* and *numpy.ones* return floating point numbers by default,\n",
    "and integers or other types ony when using the dtype keyword, e.g., ```dtype=int```,\n",
    "will *numpy.arange* use the type supplied as argument by default, unless explicitly\n",
    "specified otherwise via the *dtype* keyword.\n",
    "\n",
    "For the element wise operations used above, it is important to make sure that\n",
    "*x* and *w* have the same length. Try for example:\n",
    "```\n",
    "v1 = np.arange(10)\n",
    "v2 = np.zeros(9)\n",
    "print(v1 + v2)              # raises a ValueError\n",
    "```"
   ]
  },
  {
   "cell_type": "code",
   "execution_count": null,
   "id": "6ff8c515-4c08-4f3e-a1a1-20bb1bba1c32",
   "metadata": {
    "tags": []
   },
   "outputs": [],
   "source": []
  },
  {
   "cell_type": "markdown",
   "id": "2989c822-bda2-45a2-83a5-07758145ac59",
   "metadata": {},
   "source": [
    "Determine the number of elements in an array using the function len():\n",
    "```\n",
    "print(len(x))\n",
    "```"
   ]
  },
  {
   "cell_type": "code",
   "execution_count": null,
   "id": "3288c30b-e0f9-4385-872b-3d3291e1c115",
   "metadata": {
    "tags": []
   },
   "outputs": [],
   "source": []
  },
  {
   "cell_type": "markdown",
   "id": "ec762ddd-0ef9-4bc7-93ee-711fc3d3de49",
   "metadata": {},
   "source": [
    "Determine the sum of all elements with sum:\n",
    "```\n",
    "print(x)\n",
    "```"
   ]
  },
  {
   "cell_type": "code",
   "execution_count": null,
   "id": "5ada2460-f055-4aff-b6f5-c6429073a875",
   "metadata": {
    "tags": []
   },
   "outputs": [],
   "source": []
  },
  {
   "cell_type": "markdown",
   "id": "21490de2-fb58-48bb-bc9b-0c9172ebac45",
   "metadata": {},
   "source": [
    "## Access to Single Elements and Slicing\n",
    "Access individual elements using the *[]*-Operator\n",
    "```\n",
    "print(x[5])\n",
    "```\n",
    "\n",
    "Note that the first element is accessed as ```x[0]```, while the last element is accessed as ```x[len(x) - 1]``` or ```x[-1]```.\n",
    "\n",
    "You can access parts of the array using the *:* notation (*slicing*): ```array[start:stop:step]```\n",
    "```\n",
    "x = np.arange(10)\n",
    "print(x)\n",
    "print(x[0:4])\n",
    "print(x[5:7])\n",
    "print(x[4:])\n",
    "print(x[:6])\n",
    "print(x[1:6:2])\n",
    "print(x[:6:2])\n",
    "print(x[::2])\n",
    "```\n",
    "\n",
    "Note that the upper boundary is **not included**, analogous to the *np.arange()* function."
   ]
  },
  {
   "cell_type": "code",
   "execution_count": null,
   "id": "fefd5d1e-1b0b-479d-8b2c-a9073520f231",
   "metadata": {
    "tags": []
   },
   "outputs": [],
   "source": []
  },
  {
   "cell_type": "markdown",
   "id": "a5361771-83e4-4c68-8472-3ba49d64efe2",
   "metadata": {},
   "source": [
    "## To Copy or Not to Copy\n",
    "Important is the following example:\n",
    "```\n",
    "k = 10\n",
    "l = k\n",
    "print(k, l)\n",
    "\n",
    "l = 4\n",
    "print(k, l)\n",
    "\n",
    "# But:\n",
    "q = np.arange(5)\n",
    "r = q\n",
    "print(q, r)\n",
    "\n",
    "r[2] = -100\n",
    "print(q, r)\n",
    "```\n",
    "Try it out! This is a frequent cause of error. Can you imagine, why arrays behave differently?"
   ]
  },
  {
   "cell_type": "code",
   "execution_count": null,
   "id": "cae74962-6b52-4f30-a8f7-f1d85285e682",
   "metadata": {
    "tags": []
   },
   "outputs": [],
   "source": []
  },
  {
   "cell_type": "markdown",
   "id": "58aabb93-3913-4cf7-ad7c-86a210250045",
   "metadata": {},
   "source": [
    "To copy any array, you can use\n",
    "```\n",
    "q = np.arange(5)\n",
    "r = 1 * q           # This creates a \"copy\" of q\n",
    "print(q, r)\n",
    "\n",
    "r[2] = -100\n",
    "print(q, r)\n",
    "```\n",
    "\n",
    "or, explicitly create a copy with\n",
    "```\n",
    "r = q.copy()\n",
    "r[2] = 200\n",
    "print(q, r)\n",
    "```"
   ]
  },
  {
   "cell_type": "code",
   "execution_count": null,
   "id": "f4e62843-f3a8-4201-b9d8-66d46e2f0f74",
   "metadata": {
    "tags": []
   },
   "outputs": [],
   "source": []
  },
  {
   "cell_type": "markdown",
   "id": "164a0ab4-ea8c-4a36-b45c-7a1c42f20f1a",
   "metadata": {
    "tags": []
   },
   "source": [
    "## Creating Arrays\n",
    "To create an array of real numbers (double precision) use\n",
    "```\n",
    "a = np.zeros(10)\n",
    "print(a)\n",
    "print(\"Type in array\", a.dtype.name)              # Prints: Type in array float64\n",
    "```"
   ]
  },
  {
   "cell_type": "code",
   "execution_count": null,
   "id": "ff29fece-78b8-4403-baef-cc0b7a98b4e1",
   "metadata": {
    "tags": []
   },
   "outputs": [],
   "source": []
  },
  {
   "cell_type": "markdown",
   "id": "91d15c48-4bb0-4b55-836f-7d605cb9c6bb",
   "metadata": {},
   "source": [
    "To create an array with linearly increasing elements, use\n",
    "```\n",
    "print(np.linspace(0, 7.2, 9, endpoint=False))    # Start, end, number of values\n",
    "```\n",
    "The endpoint switch controlls, weather the end point is to be interpreted as included or excluded."
   ]
  },
  {
   "cell_type": "code",
   "execution_count": null,
   "id": "3e5371c9-5e63-4cc5-9dd2-ae1c6bb1c3d0",
   "metadata": {
    "tags": []
   },
   "outputs": [],
   "source": []
  },
  {
   "cell_type": "markdown",
   "id": "7edc6be0-843f-45a8-ae53-d944a66ebeec",
   "metadata": {},
   "source": [
    "Note that the *np.arange()* functions seems to be capable of achieving the same\n",
    "```\n",
    "print(np.arange(0.0, 7.2, 0.8))           # Start, end, increment\n",
    "```\n",
    "but using an increament can cause rounding errors.\n",
    "Compare\n",
    "```\n",
    "print('linspace:', np.linspace(0.0, 5.4, 9, endpoint=False))\n",
    "print('arange:  ', np.arange(0.0, 5.4, 0.6))\n",
    "```\n",
    "What is the difference?\n",
    "Did you expect that?\n",
    "Is Python faulty?\n",
    "Try the following instructions:\n",
    "```\n",
    "print(repr(9.0 * 0.8))\n",
    "print(repr(9.0 * 0.6))\n",
    "```"
   ]
  },
  {
   "cell_type": "code",
   "execution_count": null,
   "id": "a11addcc-f845-4d8d-a603-740201d442f3",
   "metadata": {
    "tags": []
   },
   "outputs": [],
   "source": []
  },
  {
   "cell_type": "markdown",
   "id": "1c51e293-a8c2-467f-9c49-7da9a43237bb",
   "metadata": {},
   "source": [
    "## Further Operations on Arrays\n",
    "There is an abundance of additional operations available for arrays,\n",
    "for which the [numpy documentation](https://numpy.org) gives a starting\n",
    "point, but also other packages like [scipy](https://scipy.org)\n",
    "and [statsmodels](https://www.statsmodels.org) use numpy.\n",
    "\n",
    "Examples for trying out\n",
    "```\n",
    "N = 100000                  # Adjust this if your machine is too fast ;-)\n",
    "x = np.linspace(0, 1, N)\n",
    "y = np.cos(x)\n",
    "```\n",
    "\n",
    "Compare the speed of\n",
    "```\n",
    "np.sum(np.cos(x))\n",
    "```\n",
    "with\n",
    "```\n",
    "_sum = 0.0\n",
    "for i in range(N):\n",
    "    _sum = _sum + np.cos(x[i])\n",
    "print(_sum)\n",
    "```"
   ]
  },
  {
   "cell_type": "code",
   "execution_count": null,
   "id": "36077c20-766f-4362-853c-2622013c4ace",
   "metadata": {
    "tags": []
   },
   "outputs": [],
   "source": []
  },
  {
   "cell_type": "markdown",
   "id": "60eb5a9a-2ed1-4530-8a69-86b1ea6e5a66",
   "metadata": {},
   "source": [
    "This example illustrates two important aspects:\n",
    "\n",
    " 1. Using array, you can significantly speed up your code\n",
    "    while also improving legibility.\n",
    " 2. For loops are significantly slower.\n",
    "\n",
    "Try to calculate with a for loop the sum of 1/n for 1 <= n <= 100, which should result in ~5.1873…\n",
    "\n",
    "Also, try\n",
    "```\n",
    "print(np.sum(1/np.arange(1, 101)))\n",
    "```\n",
    "\n",
    "Why is safe to use arange here?"
   ]
  },
  {
   "cell_type": "code",
   "execution_count": null,
   "id": "f92e60ed-2a34-43bd-881f-334d0cb3dec8",
   "metadata": {
    "tags": []
   },
   "outputs": [],
   "source": []
  },
  {
   "cell_type": "markdown",
   "id": "ed404681-37bc-4d58-903f-ca6276f843c1",
   "metadata": {
    "tags": []
   },
   "source": [
    "If you want to dig in a bit deeper into the performance aspect, then you can use the [timeit module](https://docs.python.org/3/library/timeit.html) to perform naive speed measurements\n",
    "```\n",
    "import timeit\n",
    "import math\n",
    "\n",
    "N = 1000\n",
    "x = np.linspace(0, 1, N)\n",
    "y = np.cos(x)\n",
    "\n",
    "def numpy_sum():\n",
    "    \"\"\" Use numpy's sum and cos implementations. \"\"\"\n",
    "    np.sum(np.cos(x))\n",
    "\n",
    "def python_sum():\n",
    "    \"\"\" Use python's standard sum sum and numpy's cos implementation. \"\"\"\n",
    "    sum(np.cos(x))\n",
    "\n",
    "def loop_sum():\n",
    "    \"\"\" Sum with a for loop using numpy's cos implementation. \"\"\"\n",
    "    _sum = 0.0\n",
    "    for i in np.arange(N):\n",
    "        _sum = _sum + np.cos(x[i])\n",
    "    return _sum\n",
    "\n",
    "def loop_sum_math():\n",
    "    \"\"\" Sum with a for loop using python's standard cos implementation. \"\"\"\n",
    "    _sum = 0.0\n",
    "    for i in np.arange(N):\n",
    "        _sum = _sum + math.cos(x[i])\n",
    "    return _sum\n",
    "\n",
    "print('Execution time with np.sum:     ', timeit.timeit(numpy_sum, number=1000))\n",
    "print('Execution time with python sum: ', timeit.timeit(python_sum, number=1000))\n",
    "print('Execution time with loop:       ', timeit.timeit(loop_sum, number=1000))\n",
    "print('Execution time with python cos: ', timeit.timeit(loop_sum_math, number=1000))\n",
    "```\n",
    "Note that we scale down N, as we do multiple repetitions for more accurate timing.\n",
    "Before trying the code, think about what you expect in terms of execution speed from the different functions!"
   ]
  },
  {
   "cell_type": "code",
   "execution_count": null,
   "id": "f49a781b-3da5-442b-83dd-1aac18dfcaf5",
   "metadata": {
    "tags": []
   },
   "outputs": [],
   "source": []
  },
  {
   "cell_type": "markdown",
   "id": "5a70ab5f-3c4c-460d-b9a9-b697fbe9f473",
   "metadata": {},
   "source": [
    "I used this example to silently introduce another puzzle piece for those interested.\n",
    "The first three functions use *np.cos* -- in variants of obviously varying effectiveness.\n",
    "\n",
    "While the first method is by far the fastest, using array optimsed implementations of sum and cos,\n",
    "the second method uses the python standard sum, which works on any iterable type (google for it)\n",
    "and is not optimised for arrays, which results in a significant slowing down of the execution.\n",
    "The third case uses a manually coded for loop, which produces by far the worst performance.\n",
    "Why is that?"
   ]
  },
  {
   "cell_type": "markdown",
   "id": "b2e6bdad-b956-4183-ad9e-f5154fb531df",
   "metadata": {
    "tags": []
   },
   "source": [
    "# Graphics with matplotlib\n",
    "Getting results is nice, but you also need to be able to present them.\n",
    "Also, getting a visual representation can help you a long way in understanding a problem.\n",
    "Therefore, the graphical representation of data is a crucial part of our work,\n",
    "and there are plenty of options available for doing so.\n",
    "We will focus on [matplotlib](https://matplotlib.org/) -- not because it is perfect, but because it is the default option for years and features an interface that should be familiar for people coming from matlab.\n",
    "With decent effort, we will be able to achieve decent visualisation on all platforms for a [huge variety](https://matplotlib.org/stable/plot_types/index.html) of [display formats](https://matplotlib.org/stable/gallery/index.html).\n",
    "\n",
    "## Static Plots\n",
    "We will focus on static plots, a display of data fit for publishing.\n",
    "For completness sake -- and for those interested -- let me shortly mention that it is also possible to create dynamic plots and animations, which will update the display.\n",
    "You can also insert UI elements and use them to modify parameters of the plots.\n",
    "\n",
    "But not in our case: we will prepare our data, perform calculations and analysis, and then we will make a beautifaul display of our work.\n",
    "\n",
    "We will go through this as a part of this notebook, which will display the figure inline because we ask for it.\n",
    "If you do not do that -- or when creating programs which do not run inside of jupyter, you will need to actively initiate display using the *show()*-function, which will display the figure in an extra window, which allows to zoom, move, or save the plot.\n",
    "\n",
    "So lets look at an example program that displays a sine function with its second harmonic. Try it:\n",
    "```\n",
    "%matplotlib widget\n",
    "import matplotlib.pyplot as plt      # Module for Graphics\n",
    "from numpy import pi                 # Directly import pi for convenience\n",
    "\n",
    "x = np.linspace(0.0, 2.0*pi, 100)    # x-values\n",
    "\n",
    "plt.plot(x, np.sin(x))               # Directly plot sin(x)\n",
    "plt.plot(x, np.sin(2*x))             # … and the second harmonic\n",
    "\n",
    "# It won't hurt here, but also is not necessary,\n",
    "# but we would need the call to show() outside of jupyter lab.\n",
    "# (Or if you have an incomplete install pof jupyter lab/notebook.)\n",
    "#plt.show()\n",
    "```"
   ]
  },
  {
   "cell_type": "code",
   "execution_count": null,
   "id": "02e168b6-e0fd-47c7-b6d3-ddf70bea7c20",
   "metadata": {
    "tags": []
   },
   "outputs": [],
   "source": []
  },
  {
   "cell_type": "markdown",
   "id": "41a70171-9577-497a-a62d-29ea2d6c95ad",
   "metadata": {},
   "source": [
    "First, we import matplotlib's pyplot module under the name plt, to have basic plotting functions available.\n",
    "We still need numpy to have access to our array functions.\n",
    "Then, we use *plt.plot()* to create the graph.\n",
    "Check the documentation (internet) to see which parameters are allowd to change the style of the plot, e.g.\n",
    "```\n",
    "plt.plot(x, np.sin(x), linestyle='-.', linewidth=3, color='g')\n",
    "```"
   ]
  },
  {
   "cell_type": "code",
   "execution_count": null,
   "id": "f4bda870-aa4b-4f17-92f4-4e26877d0e08",
   "metadata": {
    "tags": []
   },
   "outputs": [],
   "source": []
  },
  {
   "cell_type": "markdown",
   "id": "b5a2eada-26ed-4c2d-a484-6ccfba436872",
   "metadata": {},
   "source": [
    "Or you can modify properties later on, but this requires keeping a reference to the plot:\n",
    "```\n",
    "x = np.linspace(0.0, 2.0*pi, 100)\n",
    "\n",
    "sine = plt.plot(x, np.sin(x))\n",
    "sine2 = plt.plot(x, np.sin(2*x))\n",
    "\n",
    "plt.setp(sine[0], linewidth=5)\n",
    "```\n",
    "\n",
    "Other possible keywords include:\n",
    "```\n",
    "plt.setp(sine[0], linestyle='-.')        # line style: dot-dash\n",
    "plt.setp(sine[0], color='g')             # green\n",
    "plt.setp(sine2[0], linestyle='None')     # line style: no\n",
    "plt.setp(sine2[0], marker='s')           # use smale rectangular markers\n",
    "plt.setp(sine2[0], markerfacecolor='r')  # red markers\n",
    "plt.setp(sine2[0], markeredgecolor='k')  # with black edge\n",
    "plt.setp(sine2[0], markersize=4)         # marker size\n",
    "plt.setp(sine2[0], markeredgewidth=2)    # width of edge\n",
    "```"
   ]
  },
  {
   "cell_type": "code",
   "execution_count": null,
   "id": "23e02791-c4b3-4e5f-8b9d-f05ce166dfac",
   "metadata": {
    "tags": []
   },
   "outputs": [],
   "source": []
  },
  {
   "cell_type": "markdown",
   "id": "88fddc51-017f-4c47-b2fc-a4300f063f4f",
   "metadata": {
    "tags": []
   },
   "source": [
    "Note, when you just want to plot a single point *(x, y)*,\n",
    "you should specify a marker as a line needs at least two points:\n",
    "```\n",
    "plt.plot(x, y, marker='+')\n",
    "```"
   ]
  },
  {
   "cell_type": "code",
   "execution_count": null,
   "id": "e7d77607-5be6-48dc-9b34-6549af37e60c",
   "metadata": {
    "tags": []
   },
   "outputs": [],
   "source": []
  },
  {
   "cell_type": "markdown",
   "id": "19014f9e-f19e-4c64-9a53-abb37da47d4a",
   "metadata": {},
   "source": [
    "## Decorating your plots: plotting area, titles, and labels\n",
    "The following example shows how to define the plotting area\n",
    "and how you assign a title and axis labels.\n",
    "```\n",
    "plt.title(\"heading\")\n",
    "plt.xlabel(\"x label\")\n",
    "plt.ylabel(\"y label\")\n",
    "\n",
    "x = np.linspace(0.0, 1.0, 100)\n",
    "\n",
    "plt.plot(x, 2.0*x*x)\n",
    "plt.axis([0.0, 1.0, 0.0, 2.0])    # plotting area [x0, x1, y0, y1]\n",
    "```"
   ]
  },
  {
   "cell_type": "code",
   "execution_count": null,
   "id": "cf755fb2-3a54-46a8-b032-e2f240db3d5a",
   "metadata": {
    "tags": []
   },
   "outputs": [],
   "source": []
  },
  {
   "cell_type": "markdown",
   "id": "b5a4a7f5-6cd4-4ba5-b576-c8e61a580406",
   "metadata": {
    "tags": []
   },
   "source": [
    "## Multiple figures\n",
    "You can use the *figure()* function to create new plot areas.\n",
    "```\n",
    "x = np.linspace(0.0, 1.0, 100)\n",
    "\n",
    "plt.figure(0)          # new figure 0\n",
    "plt.plot(x, 2.0*x*x)\n",
    "\n",
    "plt.figure(1)          # new figure 1\n",
    "plt.plot(x, sqrt(x))\n",
    "\n",
    "plt.figure(0)          # activate figure 0\n",
    "plt.plot(x, 3.0*x*x)\n",
    "```"
   ]
  },
  {
   "cell_type": "code",
   "execution_count": null,
   "id": "882c4238-316f-4cfd-9983-fd27be8e0a3c",
   "metadata": {
    "tags": []
   },
   "outputs": [],
   "source": []
  },
  {
   "cell_type": "markdown",
   "id": "55611924-0dbb-4643-92d4-bd4e5ee1948f",
   "metadata": {},
   "source": [
    "When just using one figure per cell or program,\n",
    "you can rely on matplotlib to create the figure for you.\n",
    "Nonetheless, you can control the properites of the figure\n",
    "by opening it explicitly and you can consider it better style to be explicit.\n",
    "\n",
    "Further options for creating and arranging figures in one display area\n",
    "is using the *subplot* or the *subplots* function.\n",
    "Use *subplot(nmk)* or *subplot(n, m, k)* to select the *k-th* display area on a *n x m* display area grid.\n",
    "The syntax takes some getting used to -- it comes from matlab…\n",
    "```\n",
    "x = np.linspace(0.0, 1.0, 100)\n",
    "\n",
    "plt.figure(0)            # new window 0\n",
    "plt.subplot(423)         # Use the third area in a 4x2 grid\n",
    "                         # arranged in 4 rows and 2 columns\n",
    "plt.plot(x, 2.0*x*x)\n",
    "\n",
    "plt.subplot(4, 2, 6)     # 6th area\n",
    "plt.plot(x, np.sqrt(x))\n",
    "\n",
    "plt.subplot(423)         # going back to the third\n",
    "plt.plot(x, 3.0*x*x)\n",
    "```\n",
    "And yes, the numbers in the example were chosen to be odd,\n",
    "to better demonstrate how it works.\n",
    "In praxis, values like 111, 211, 121, 122 are more common for the *subplot()* function.\n",
    "\n",
    "Similar to the *figure()* function, matplotlib will make sure to create\n",
    "a *111* plotting area in a figure if you forget to do so."
   ]
  },
  {
   "cell_type": "code",
   "execution_count": null,
   "id": "c7a986b8-94b4-4e4c-972c-ccc4aa8e62c7",
   "metadata": {},
   "outputs": [],
   "source": []
  },
  {
   "cell_type": "markdown",
   "id": "fba9a44b-a8e0-459f-b943-763b39859c2c",
   "metadata": {},
   "source": [
    "## Other Plotting Options\n",
    "You might want to look into seaborn, which provides other plotting functions, especially in combination with pandas data frames (see next section).\n",
    "But to be honest, people have been using ```import seaborn as sns```\n",
    "just to benefit from nicer colour schemes, other defaults, and simpler options for [tuning the layout](https://seaborn.pydata.org/tutorial/aesthetics.html).\n",
    "Try it out. For example with\n",
    "```\n",
    "import seaborn as sns\n",
    "sns.despine()\n",
    "```\n",
    "or \n",
    "```\n",
    "sns.despine(trim=True)\n",
    "```\n",
    "Note, that you have to call this function after creating a figure,\n",
    "i.e., it does not set defaults, but it modifies existing windows."
   ]
  },
  {
   "cell_type": "code",
   "execution_count": null,
   "id": "b367d66f-8366-4d7e-aef5-832e5fc2408f",
   "metadata": {
    "tags": []
   },
   "outputs": [],
   "source": []
  },
  {
   "cell_type": "markdown",
   "id": "ea7ef2f4-dcf5-4495-a53f-409c7398bc70",
   "metadata": {},
   "source": [
    "## Interactive Plot Widgets in Jupyter Lab\n",
    "While plotting with matplotlib works out of the box in jupyter lab,\n",
    "the static images presented are a bit old school and can be replaced\n",
    "by interactive javascript plotting widgets.\n",
    "\n",
    "To do so, you need to have installed **ipympl**\n",
    "and then configure jupyter lab's matplotlib support using\n",
    "the ```%matplotlib widget``` magic.\n",
    "Try it out! Typically by setting the magic at the top of your\n",
    "notebook, when you import the modules you use.\n",
    "And then observe the buttons for zooming, moving, and saving.\n",
    "\n",
    "But also note that, as plots are now no longer images, but persistent\n",
    "interactive objects, it is advisable to open figures explicitly,\n",
    "using *figure()*, *subplot()*, or *subplots()*.\n",
    "If you do not do this, you will observe that new plots are showing\n",
    "up in figures previously created.\n",
    "This is one of the reasons why it is beneficial to be explicit about\n",
    "what is going to happen.\n",
    "It avoids side effects due to changes violating assumptions on implicit\n",
    "API behaviour.\n",
    "Try it out! :-)"
   ]
  },
  {
   "cell_type": "code",
   "execution_count": null,
   "id": "a86ce08f-f0c7-493d-be60-2fd1e248a85d",
   "metadata": {
    "tags": []
   },
   "outputs": [],
   "source": []
  },
  {
   "cell_type": "markdown",
   "id": "e655a06b-5a86-4c2e-9afc-6f6e396955d2",
   "metadata": {
    "tags": []
   },
   "source": [
    "## Dynamic Plots and Interaction with Figures\n",
    "As mentioned, we will not cover this, as we are not using\n",
    "these features in the course, but I want to encourage you\n",
    "to look into them on your own.\n",
    "\n",
    "Essentially, you can have animations or input fields,\n",
    "which can dynamically change the displayed data.\n",
    "This allows to create interesting, interactive visualisations."
   ]
  },
  {
   "cell_type": "markdown",
   "id": "50f6ca12-50f7-4803-83d8-528b432370b1",
   "metadata": {
    "tags": []
   },
   "source": [
    "# Tabular Data with Pandas\n",
    "Data as for Module 2 in our course uses tabular data.\n",
    "In contrast to numpy arrays, where all cells are of the same type,\n",
    "this type of tabular data might have the data type change with the columns.\n",
    "This use case is supported by [pandas](https://pandas.pydata.org/), for which [seaborn](https://seaborn.pydata.org/) provides specialised plotting routines.\n",
    "\n",
    "Pandas provides specialised functions for importing all types of file types,\n",
    "i.e., csv, excel, open document, stata, etc."
   ]
  },
  {
   "cell_type": "code",
   "execution_count": null,
   "id": "5ded7730-c0c6-4ec4-82e8-4bed152637d8",
   "metadata": {},
   "outputs": [],
   "source": []
  },
  {
   "cell_type": "markdown",
   "id": "a1a7c1e5-7a45-4dc5-a51c-80210c13acbb",
   "metadata": {},
   "source": [
    "# Simple Statistics with Python\n",
    "In the course, you will perform the statistics module with *R*.\n",
    "Nonetheless, being able to deliver descriptive statistics will\n",
    "also come in handy when working with *Python*.\n",
    "Thus, we will take a look at a few simple functions for basic\n",
    "statistics in *Python*.\n",
    "\n",
    "Note that the first part is explicitly designed for using *R*.\n",
    "All support in the lecture is limited to general questions and *R*.\n",
    "You are free to stick to python, if you are feeling comfortable\n",
    "enough with python that you will not need support from\n",
    "the teacher's side for *Python* issues."
   ]
  },
  {
   "cell_type": "code",
   "execution_count": null,
   "id": "a549faa4-b397-4f29-907f-f5b539846755",
   "metadata": {},
   "outputs": [],
   "source": []
  },
  {
   "cell_type": "markdown",
   "id": "22e2cf82-3640-4d1c-9145-25cec20c1561",
   "metadata": {},
   "source": [
    "# Regression"
   ]
  },
  {
   "cell_type": "code",
   "execution_count": null,
   "id": "269af822-5a96-492a-a506-bf123db46284",
   "metadata": {},
   "outputs": [],
   "source": []
  },
  {
   "cell_type": "markdown",
   "id": "47b55923-fa62-4674-8ea0-affd19177da2",
   "metadata": {},
   "source": [
    "# File Access: The Filesystem\n",
    "We are facing the issue that more and more people are so used to point-and-click or touch interfaces,\n",
    "that programatically determining how a file can be accessed in text form actually becomes an issue.\n",
    "\n",
    "As we are using scripts to manipulate data from files, we have to get some basics in file access\n",
    "the manual way -- without using any click- or touch-interface.\n",
    "\n",
    "For many, this will be old news and you can happily go around this section,\n",
    "but if you have difficulties locating a file you can easily find in your Explorer or Finder,\n",
    "then this section is for you.\n",
    "\n",
    "This section is best accompanied by experimentation in a shell, i.e., using the Windows Terminal or starting a command prompt (*cmd.exe*) in Windows,\n",
    "or using *konsole* or *gnome-terminal* amongst many other alternatives under Linux.\n",
    "There, you will be able to follow the movment through folders using the ```cd``` command, listing directory (folder) contents with ```dir``` on Windows or ```ls``` on Unix systems like Linux.\n",
    "\n",
    "## Concepts\n",
    "\n",
    "  * **Files** are identified by a file name (a string or pathlib.Path object)\n",
    "    and contain data in different formats. For example text files,\n",
    "    which can be represented in your program as strings,\n",
    "    spreadsheets, like Excel or CSV files, which will be loaded as pandas\n",
    "    DataFrames, which can represent integers, floats, or strings\n",
    "    organised in rows and columns. Typically columns have the same data type.\n",
    "    Another example are images, which can be loaded with different\n",
    "    *Python* moduels,\n",
    "    and specialised data formats, for example our *EEG* files,\n",
    "    which typically come in [*EDF* format](https://edfplus.info/).\n",
    "    \n",
    "    We will try out different modules for loading relevant data formats\n",
    "    in the following sections.\n",
    "  * **Folders** or **directories** contain files or other folders\n",
    "    and thus form the building block of a hierarchy,\n",
    "    a tree structure.\n",
    "    In this structure, directories are nodes which can contain\n",
    "    other nodes, while files are leave nodes.\n",
    "    Nomenclature: a parent directory contains subdirectories.\n",
    "  * **File System Hierarchy**\n",
    "  * **About these drive letters**\n",
    "    Drives are a concept from DOS times, which are still around in Windows.\n",
    "    Each drive, e.g., hard disk, USB or network drive, gets assigned\n",
    "    a drive letter, e.g., *C:* for the first hard disk of the system.\n",
    "    On each drive, a separate file system hierarchy organises the contained files.\n",
    "    Unix Systems on the other hand integrate all drives into one hierarchy,\n",
    "    which starts in the *root* directory */*.\n",
    "    In reality, nowadays also Windows systems can mount drives into an existing hierarchy.\n",
    "  * **(Path-) Separators** A file's or directories location can be defined by concatenating\n",
    "    a possible drive letter plus all parent directories in sequence.\n",
    "    To separate the individual components, they are separated by a special character,\n",
    "    the seperator.\n",
    "    Unix systems, the slash */* is used, on DOS derivates, the backslash *\\\\* is used.\n",
    "    All programming languages provide abstractions, to bridge the difference\n",
    "    between operating systems.\n",
    "    Python internally allows the use of the slash */* on all operating systems,\n",
    "    which is then translated to the correct separator when actually accessing a file.\n",
    "    \n",
    "    Note: this is the reason why inernet URLs use slashes.\n",
    "    \n",
    "    The full construct will be called the *path* to your file or directory.\n",
    "\n",
    "Note: MacOS counts as a Unix system, as does Linux.\n",
    "\n",
    "## Let's Do Something Practical\n",
    "Every user has a *home* or *user* directory, where personal files are stored.\n",
    "As this directory is located at different positions for different operating systems,\n",
    "*Python* provides also an abstraction for file locations.\n",
    "\n",
    "We will use the ```pathlib``` module to handle all file system locations for us,\n",
    "using *Unix* slashes in our code, as backslashes have a special meaning,\n",
    "and might transform the next character into a special one.\n",
    "For example *\\n* will become a *newline* character.\n",
    "Try it out with the ```print``` function.\n",
    "\n",
    " 1. Start by importing ```Path``` from ```pathlib```.\n",
    " 2. Use ```Path.home()``` to get the path to your user's home directory.\n",
    " 3. Use the path's ```iterdir()``` method in a for loop to optain an iterator for all children\n",
    "    and ```print``` them.\n"
   ]
  },
  {
   "cell_type": "code",
   "execution_count": null,
   "id": "cbabd7d5-177c-4116-bc96-8e8e82c24c7b",
   "metadata": {},
   "outputs": [],
   "source": []
  },
  {
   "cell_type": "markdown",
   "id": "9aaa1195-cc2e-4208-94a9-f47b5b02955e",
   "metadata": {},
   "source": [
    "## Now Grab a Hold of a Specific Folder\n",
    "Assuming that you have downloaded images or data files to a local folder,\n",
    "let's use the *Explorer* or *Finder* to get a location.\n",
    "\n",
    "In Window's *Explorer*, right click on the *folder* or *file*\n",
    "and select \"Copy as Path\".\n",
    "\n",
    "In Finder, control-click or right-click on the *folder* or *file*.\n",
    "Press the Option (Alt) key and choose 'Copy [filename] as Pathname'.\n",
    "\n",
    "Then insert the *path* into your *Python* script.\n",
    "Note that on Windows, this *path* will contain backslashes,\n",
    "which will be corrupted.\n",
    "Either replace the backslashes with slashes, or use a raw string prefixed with *r*\n",
    "```\n",
    "file_name = Path(r'C:\\Users\\username\\foldername\\filename.extension')\n",
    "```\n",
    "Try this with a directory and list its contents,\n",
    "or use this technique in the following sections to grab the location\n",
    "of the relevant data files."
   ]
  },
  {
   "cell_type": "code",
   "execution_count": null,
   "id": "09ca3042-7997-459d-965c-a1f2596e1a1f",
   "metadata": {},
   "outputs": [],
   "source": []
  },
  {
   "cell_type": "markdown",
   "id": "66fe18be-9f93-4473-8153-cc074607cf34",
   "metadata": {},
   "source": [
    "## Final Path Exercise: Constructing Paths\n",
    "Path objects can be combined with other Path objects or strings using the slash operator.\n",
    "\n",
    "E.g.\n",
    "```\n",
    "home_dir = Path('C:/Users') / 'username'\n",
    "print(str(home_dir)\n",
    "```"
   ]
  },
  {
   "cell_type": "code",
   "execution_count": null,
   "id": "09846bb7-6804-43ec-ac35-7be7373a8e88",
   "metadata": {},
   "outputs": [],
   "source": []
  },
  {
   "cell_type": "markdown",
   "id": "dcc26f10-a1a7-4cd0-8752-ed5ceec8802a",
   "metadata": {},
   "source": [
    "## Further Documentation\n",
    "The ```pathlib``` module provides many other tools,\n",
    "for example, you can check if a *path* exists, is a *file* or *directory*.\n",
    "Check [the module documentation](https://docs.python.org/3/library/pathlib.html)\n",
    "to find out about the possibilities."
   ]
  },
  {
   "cell_type": "markdown",
   "id": "289a4715-056f-42dd-ac76-e38e1d06a301",
   "metadata": {},
   "source": [
    "# Data Access Examples\n",
    "Here, we will load relevant data formats to make sure that we can follow the course without issues.\n",
    "\n",
    "## Set up of file locations\n",
    "The file locations here are set up for use of UCloud.\n",
    "When going through this tutorial on your machine, you will need to adjust the locations.\n",
    "Please also see the note on Templates & UCloud below."
   ]
  },
  {
   "cell_type": "code",
   "execution_count": null,
   "id": "c3476fcc-06a2-43aa-8006-acaeccaf219a",
   "metadata": {},
   "outputs": [],
   "source": [
    "from pathlib import Path                   # OS agnostic path\n",
    "\n",
    "user = 'jb'                                # Per-user output directories, use your initials\n",
    "\n",
    "# Adjust these paths when working locally!\n",
    "DATA_DIR = Path('/work/data')              # Read-Only data\n",
    "OUTPUT_DIR = Path('/work/output')          # Read-Write data\n",
    "\n",
    "OUTPUT_DIR /= user                         # Create per-user directory\n",
    "                                           # To make sure we do not overwrite the same files…\n",
    "OUTPUT_DIR.mkdir(parents=True, exist_ok=True)\n",
    "\n",
    "import os\n",
    "os.chdir(OUTPUT_DIR)                       # Change to working directory\n",
    "                                           # When we forget to add the full path,\n",
    "                                           # the files will not pollute our code directory."
   ]
  },
  {
   "cell_type": "markdown",
   "id": "226b7103-7117-47a7-b643-516422f1c75b",
   "metadata": {},
   "source": [
    "## Loading EEG Datasets\n",
    "We will use the ```pyedflib``` *Python* module to load a sample edf file,\n",
    "which contains EEG signals from a patient with epilepsy.\n",
    "The recording contains several channels, which correspond to different\n",
    "electrode locations on the patient's head.\n",
    "\n",
    "```pyedflib``` provides the ```highlevel``` interface, whose ```read_edf```\n",
    "function returns three variables, the raw signals, the signal_headers with\n",
    "information per signal channel, and the header variable, which contains\n",
    "the general header for the full recording.\n",
    "\n",
    "Use\n",
    "```\n",
    "signals, signal_headers, header = \\\n",
    "    highlevel.read_edf(str(file_name))\n",
    "```\n",
    "to load the data.\n",
    "Make sure that DATA_DIR points to the right location.\n",
    "The tutorial provides the correct paths for UCloud."
   ]
  },
  {
   "cell_type": "code",
   "execution_count": null,
   "id": "f075b835-e25a-40d0-832c-206a02aa5b7b",
   "metadata": {},
   "outputs": [],
   "source": [
    "from pyedflib import highlevel\n",
    "\n",
    "# Using the common python template\n",
    "file_name = DATA_DIR / 'module_0_-_preparation' / 'chb06_01.edf'\n",
    "\n",
    "signals, signal_headers, header = \\\n",
    "    highlevel.read_edf(str(file_name))"
   ]
  },
  {
   "cell_type": "markdown",
   "id": "8aa30468-6fb8-41e4-bac5-fe08e3c400e1",
   "metadata": {},
   "source": [
    "## Inspecting the Loaded EEG Data\n",
    "Now, we are going to look into the variables to find out what information they contain.\n",
    "signals and signal_headers contain information per channel.\n",
    "\n",
    "- How many channels does the file contain?\n",
    "- What do the three variables contain?\n",
    "- How can we use the information supplied?\n",
    "- And what information is relevant for interpreting the data?\n",
    "  \n",
    "```\n",
    "# Try\n",
    "print(signals)\n",
    "print(signals.shape)\n",
    "print(len(signals))\n",
    "print(signals[0])\n",
    "print(signals[:2])\n",
    "# Try signals[0].mean(), .std(), .var(),\n",
    "#    .max(), .min() ...\n",
    "# Try printing individual signal_headers and the header\n",
    "print(signal_headers[0]['sample_rate'])\n",
    "```"
   ]
  },
  {
   "cell_type": "code",
   "execution_count": null,
   "id": "5932cbbe-e583-4bce-8309-5f3934c9417a",
   "metadata": {},
   "outputs": [],
   "source": [
    "# Try\n",
    "print(signals)\n",
    "print(signals.shape)\n",
    "print(len(signals))\n",
    "print(signals[0])\n",
    "print(signals[:2])\n",
    "# Try signals[0].mean(), .std(), .var(),\n",
    "# .max(), .min() ...\n",
    "# Try printing individual signal_headers and the header\n",
    "print(signal_headers[0]['sample_rate'])"
   ]
  },
  {
   "cell_type": "markdown",
   "id": "57b47e19-a33b-420e-936c-9566602e411a",
   "metadata": {},
   "source": [
    "## Plotting an EEG Channel\n",
    "Use the ```figure``` function to create a new plotting canvas\n",
    "and the ```plot``` function provided above to plot a channel.\n",
    "We will not care about the x-axis for now.\n",
    "Just plotting the channel will create a default x-axis numbering the samples.\n",
    "\n",
    "The full channel will not be usable when plotted at once,\n",
    "due to the high number of data points.\n",
    "There are several ways to reduce the number of data points\n",
    "to get an insight into how the signal really looks.\n",
    "\n",
    " 1. Use slicing to only print parts of the channel,\n",
    " 2. use the plt.xlim() function to manually select a part to zoom into, or\n",
    " 3. use the interactive zoom tool which can be activated\n",
    "    by using the ```%matplotlib widget``` magic.\n",
    "    This way, you will get a zoom button, which allows zooming with the mouse."
   ]
  },
  {
   "cell_type": "code",
   "execution_count": null,
   "id": "04aac562-bec3-424d-90b6-f2a116843578",
   "metadata": {},
   "outputs": [],
   "source": [
    "%matplotlib widget\n",
    "import matplotlib.pyplot as plt\n",
    "plt.figure()\n",
    "plt.plot(signals[1])"
   ]
  },
  {
   "cell_type": "markdown",
   "id": "fdff6a49-1f43-4a3f-af52-0ae29c6088a7",
   "metadata": {},
   "source": [
    "## Loading Images\n",
    "We will use ```matplotlib```'s ```image``` submodule to load an image\n",
    "into a numpy array."
   ]
  },
  {
   "cell_type": "code",
   "execution_count": null,
   "id": "31509168-a8d2-4b2d-9f8b-9a063a76d2b2",
   "metadata": {},
   "outputs": [],
   "source": [
    "from matplotlib import image\n",
    "\n",
    "file_name = DATA_DIR / 'module_0_-_preparation' / 'base_rate.png'\n",
    "img = image.imread(file_name)"
   ]
  },
  {
   "cell_type": "markdown",
   "id": "9d86f3fb-9b30-4318-9c7b-0073584cbf63",
   "metadata": {},
   "source": [
    "## Inspecting the Image\n",
    "After having the array available, we can inspect its contents.\n",
    "Let's take a look at the array's layout.\n",
    "It will have three dimensions, two for rows and columns,\n",
    "and then a third dimension with three channels for red, green, and blue colour information.\n",
    "```\n",
    "print(img.shape)\n",
    "plt.figure()\n",
    "plt.imshow(img)\n",
    "```"
   ]
  },
  {
   "cell_type": "code",
   "execution_count": null,
   "id": "0004317b-de39-4b40-895d-18ef7f66381f",
   "metadata": {},
   "outputs": [],
   "source": [
    "print(img.shape)\n",
    "plt.figure()\n",
    "plt.imshow(img)"
   ]
  },
  {
   "cell_type": "markdown",
   "id": "c891c25a-7920-4427-906a-178b0e570f18",
   "metadata": {},
   "source": [
    "# Manipulating an Image\n",
    "Having the image as numerical values in an array allows us\n",
    "to manipulate the values.\n",
    "Let's convert the image to greyscale by applying a *kernel*.\n",
    "This *kernel* will use a weighted average of the colour information\n",
    "in the three colour channels to create one intensity channel,\n",
    "which will be interpreted as a gray channel.\n",
    "\n",
    "Can you figure out how the *kernel* \n",
    "```\n",
    "# Now load 'module_0_-_preparation/image_as_pixel_array.png'\n",
    "# which is a colour image showing how a colour image is stored.\n",
    "# Look at it before manipulating it.\n",
    "\n",
    "import numpy as np\n",
    "# Rec. 601 colour transform\n",
    "rgb_weights = [0.2989, 0.5870, 0.1140]\n",
    "greyscale_img = \\\n",
    "np.dot(img[...,:3], rgb_weights)\n",
    "\n",
    "plt.figure()\n",
    "plt.imshow(\n",
    "    greyscale_img,\n",
    "    cmap=plt.get_cmap('gray')\n",
    ")\n",
    "```"
   ]
  },
  {
   "cell_type": "code",
   "execution_count": null,
   "id": "49948089-474e-4196-9e73-2a6f4a0ac624",
   "metadata": {},
   "outputs": [],
   "source": [
    "# Now load 'intro/image_as_pixel_array.png'\n",
    "cfile_name = DATA_DIR / 'module_0_-_preparation' / 'image_as_pixel_array.png'\n",
    "img = image.imread(cfile_name)\n",
    "\n",
    "import numpy as np\n",
    "# Rec. 601 colour transform\n",
    "rgb_weights = [0.2989, 0.5870, 0.1140]\n",
    "greyscale_img = \\\n",
    "np.dot(img[...,:3], rgb_weights)\n",
    "\n",
    "plt.figure()\n",
    "plt.imshow(\n",
    "greyscale_img,\n",
    "cmap=plt.get_cmap('gray')\n",
    ")\n",
    "# What happened?"
   ]
  },
  {
   "cell_type": "markdown",
   "id": "362dd642-165a-404d-84e5-9b4b73e54461",
   "metadata": {},
   "source": [
    "# Note on our Templates & UCloud\n",
    "We provide templates to use with jupyter/basic Python,\n",
    "which provide some boiler plate code setting up file locations.\n",
    "You can find them in our nextcloud share, as indicated in itslearning.\n",
    "\n",
    "The general idea is to differentiate between\n",
    "\n",
    " 1. **Data** which will be in a read-only location as it contains\n",
    "    our original data source, which should in all cases stay unaltered.\n",
    "    See the scandal on Danish police handling mobile phone positions\n",
    "    if you have questions why that is important.\n",
    " 2. **Code** will be the directory where your codes are kept.\n",
    "    Typically, this directory will be managed by a version control\n",
    "    system and should therefore only contain source codes\n",
    "    and maybe essential documentation & configuration files.\n",
    "    Placing results or temporary data transforations here,\n",
    "    which can easily be regenerated by re-running your scripts\n",
    "    would result in often changing files which you do not want\n",
    "    to have under version control.\n",
    " 3. **Temporary Storage & Results** the files in this location\n",
    "    are outputs of your scripts, maybe transformations of the input\n",
    "    data which you optimised for your models or which can be read\n",
    "    faster, for example with ```pickle```.\n",
    "    But this could also contain results.\n",
    "    As these files will be altered with any run of your scripts,\n",
    "    and can be obsolete when changing your scripts,\n",
    "    they can be considered temporary.\n",
    "    You can easily delete them all by emptying this directory.\n",
    "    Due to the separation of files as suggested, you do not need\n",
    "    to fear that you delete any important codes or original data.\n",
    "\n",
    "Of course, you can use any other layout as you see fit.\n",
    "But when working in UCloud, at least two locations are needed,\n",
    "as the drive for data will be read-only.\n",
    "Thus, we suggest to stick to this pattern, so that you can develop\n",
    "on your laptop, but then easily transfer your scripts to UCloud."
   ]
  },
  {
   "cell_type": "markdown",
   "id": "94d4238c-331d-4e63-8fce-ed8f47bbcd19",
   "metadata": {
    "tags": []
   },
   "source": [
    "# Help, Documentation, other Sources\n",
    "I already mentioned above, that you can use ```help(object)``` or ```object?```\n",
    "to get more information on how to use a specific function.\n",
    "Note that you can also try ```object??```, which will show the sources.\n",
    "Read the source … that's why we have open source.\n",
    "When using the help system on module level, you typically get a high level overview about how to use the module in relevant functions in it.\n",
    "\n",
    "Of course, for every module including all python built-in modules, you will find further information online on their respective home pages, like overviews, examples, and references:\n",
    "  * [Official python tutorial](https://docs.python.org/3/tutorial/)\n",
    "  * [Python module reference](https://docs.python.org/3/py-modindex.html)\n",
    "  * [python cheat sheet](https://www.pythoncheatsheet.org/cheatsheet/)\n",
    "  * [numpy reference](https://numpy.org/doc/stable/reference/)\n",
    "  * [scipy reference](https://docs.scipy.org/doc/scipy/reference/)\n",
    "  * [matplotlib](https://matplotlib.org/)\n",
    "  * [seaborn](https://seaborn.pydata.org/)\n",
    "  * [pandas](https://pandas.pydata.org/)\n",
    "  * [statsmodels](https://www.statsmodels.org/stable/index.html)\n",
    "  * [scikit-Learn](https://scikit-learn.org/stable/)\n",
    "\n",
    "The official module documentation is typically the best source to find out what a function\n",
    "does and how to use it best.\n",
    "\n",
    "There are, of course, also fully fledged *Python* tutorials available,\n",
    "which allow you to further expand your knowledge.\n",
    "\n",
    "  * [VanderPlas, J. (2016). Python Data Science Handbook. O'Reilly Media, Inc.](https://jakevdp.github.io/PythonDataScienceHandbook/)\n",
    "  * [Wentworth et al (2012). How to Think Like a Computer Scientist](https://www.ict.ru.ac.za/Resources/cspw/thinkcspy3/thinkcspy3/index.html)\n",
    "  * [Wickham, H., Grolemund, G. (2017). R for Data Science. O'Reilly Media, Inc.](https://r4ds.had.co.nz/)\n",
    "    Which is not for *Python*, but for *R*, and only contained here for completeness.\n",
    "\n",
    "You should now be ready to go on to prepare for the individual modules,\n",
    "working through the provided documentation and templates.\n",
    "These templates will be discussed as part of the modules in class\n",
    "and will be relevant for the final report, which is the basis for examination.\n",
    "\n",
    "**Happy Experimentation!**"
   ]
  },
  {
   "cell_type": "markdown",
   "id": "50551f43-a292-4cf9-a863-6148ac0d09c5",
   "metadata": {},
   "source": [
    "# Acknowledgements & Copyright\n",
    "This notebook is based on a script created by the members\n",
    "of the \"Computational Physics\" group at TU-Dresden\n",
    "as an introduction to the course of the same name.\n",
    "My thanks are going to them for getting me in contact with python,\n",
    "teaching me how to ```import this``` and read its sources,\n",
    "the beauty of numerics, and the possibiltiy to use this script\n",
    "as a basis with their permission.\n",
    "In extension, this notebook is derived from IP of the above mentioned group.\n",
    "When using this notebook, do not remove this notice."
   ]
  }
 ],
 "metadata": {
  "kernelspec": {
   "display_name": "Python 3 (ipykernel)",
   "language": "python",
   "name": "python3"
  },
  "language_info": {
   "codemirror_mode": {
    "name": "ipython",
    "version": 3
   },
   "file_extension": ".py",
   "mimetype": "text/x-python",
   "name": "python",
   "nbconvert_exporter": "python",
   "pygments_lexer": "ipython3",
   "version": "3.10.12"
  },
  "toc-autonumbering": true
 },
 "nbformat": 4,
 "nbformat_minor": 5
}
